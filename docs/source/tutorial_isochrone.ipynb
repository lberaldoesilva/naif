{
 "cells": [
  {
   "cell_type": "markdown",
   "id": "39d62fc6",
   "metadata": {},
   "source": [
    "# Fundamental frequencies in the isochrone potential\n",
    "\n",
    "Here we have a more complete description of the frequency analysis presented in the Introduction. We integrate several orbits in the isochrone potential, get the frequencies and set a strategy to obtain the fundamental ones, comparing with the analytical expressions. The orbit integration uses the [agama](https://github.com/GalacticDynamics-Oxford/Agama) package, but you may prefer other packages, such as [gala](http://gala.adrian.pw/en/latest/) or [galpy](https://www.galpy.org/).\n",
    "\n",
    "The discussion and plots are based on the Appendix A of Beraldo e Silva+ 2023."
   ]
  },
  {
   "cell_type": "markdown",
   "id": "c409a484",
   "metadata": {},
   "source": [
    "We start importing the relevant modules and setting some parameters for prettier plots:"
   ]
  },
  {
   "cell_type": "code",
   "execution_count": null,
   "id": "430e9f89",
   "metadata": {
    "ExecuteTime": {
     "end_time": "2023-01-31T19:42:58.605204Z",
     "start_time": "2023-01-31T19:42:57.673383Z"
    }
   },
   "outputs": [],
   "source": [
    "import numpy as np\n",
    "import matplotlib as mpl\n",
    "import matplotlib.pyplot as plt\n",
    "\n",
    "import agama\n",
    "import naif\n",
    "\n",
    "from matplotlib.ticker import ScalarFormatter, NullFormatter\n",
    "\n",
    "params = {'axes.labelsize': 24, 'xtick.labelsize': 20, \n",
    "          'xtick.direction': 'in', 'xtick.major.size': 8.0,\n",
    "          'xtick.bottom': 1, 'xtick.top': 1, 'ytick.labelsize': 20,\n",
    "          'ytick.direction': 'in','ytick.major.size': 8.0,'ytick.left': 1,\n",
    "          'ytick.right': 1,'text.usetex': True, 'lines.linewidth': 1,\n",
    "          'axes.titlesize': 32, 'font.family': 'serif'}\n",
    "plt.rcParams.update(params)\n",
    "columnwidth = 240./72.27\n",
    "textwidth = 504.0/72.27\n",
    "\n",
    "%matplotlib inline\n",
    "%config InlineBackend.figure_format = 'retina'"
   ]
  },
  {
   "cell_type": "markdown",
   "id": "053958b6",
   "metadata": {},
   "source": [
    "## Integrate orbits"
   ]
  },
  {
   "cell_type": "markdown",
   "id": "11e47818",
   "metadata": {
    "ExecuteTime": {
     "end_time": "2023-01-29T20:17:31.414858Z",
     "start_time": "2023-01-29T20:17:31.408899Z"
    }
   },
   "source": [
    "For the initial conditions (ICs), we generate a self-consistent sample of orbits in the isochrone model (the original units in agama are such that the gravitational constant $G=1$):"
   ]
  },
  {
   "cell_type": "code",
   "execution_count": null,
   "id": "98fb1e6f",
   "metadata": {
    "ExecuteTime": {
     "end_time": "2023-01-31T19:42:59.276959Z",
     "start_time": "2023-01-31T19:42:59.218063Z"
    }
   },
   "outputs": [],
   "source": [
    "M = 1.\n",
    "Rc = 1.\n",
    "n_orbs = 100\n",
    "\n",
    "isoc_pot = agama.Potential(type='Isochrone', mass=M, scaleRadius=Rc)\n",
    "isoc_df = agama.DistributionFunction(type='QuasiSpherical', potential=isoc_pot, density=isoc_pot)\n",
    "isoc_data,_ = agama.GalaxyModel(isoc_pot, isoc_df).sample(n_orbs)"
   ]
  },
  {
   "cell_type": "markdown",
   "id": "a43d11e5",
   "metadata": {},
   "source": [
    "Note that self-consitency is not important here, but it conveniently generates a broad range of ICs. Now we integrate the orbits and calculate the apropriate coordinates:"
   ]
  },
  {
   "cell_type": "code",
   "execution_count": null,
   "id": "6707a8bd",
   "metadata": {
    "ExecuteTime": {
     "end_time": "2023-01-31T19:43:02.305012Z",
     "start_time": "2023-01-31T19:43:00.803017Z"
    }
   },
   "outputs": [],
   "source": [
    "n_steps = 100_000 # points per orbit\n",
    "int_time = 100*isoc_pot.Tcirc(isoc_data) # integration time\n",
    "orbs = agama.orbit(potential=isoc_pot, ic = isoc_data,\n",
    "                   time = int_time, trajsize = n_steps+1)\n",
    "t = np.vstack(orbs[:,0])[:,:-1] # time\n",
    "all_coords = np.vstack(orbs[:,1]).reshape(n_orbs, n_steps+1, 6)\n",
    "\n",
    "x = all_coords[:,:-1,0]\n",
    "y = all_coords[:,:-1,1]\n",
    "z = all_coords[:,:-1,2]\n",
    "vx = all_coords[:,:-1,3]\n",
    "vy = all_coords[:,:-1,4]\n",
    "vz = all_coords[:,:-1,5]\n",
    "\n",
    "r = np.sqrt(x**2 + y**2 + z**2)\n",
    "vr = (x*vx + y*vy + z*vz)/r\n",
    "phi = np.arctan2(y, x)\n",
    "Lz = (x*vy - y*vx)"
   ]
  },
  {
   "cell_type": "markdown",
   "id": "8665d976",
   "metadata": {},
   "source": [
    "Note that the orbits are integrated for 100 circular times, which means each orbit has its own time array. We first define real time-series for all orbits."
   ]
  },
  {
   "cell_type": "markdown",
   "id": "dc367f0c",
   "metadata": {
    "ExecuteTime": {
     "end_time": "2023-01-30T01:22:17.121297Z",
     "start_time": "2023-01-30T01:22:17.117635Z"
    }
   },
   "source": [
    "## Real time-series"
   ]
  },
  {
   "cell_type": "code",
   "execution_count": null,
   "id": "da48afa0",
   "metadata": {
    "ExecuteTime": {
     "end_time": "2023-01-31T19:43:02.313560Z",
     "start_time": "2023-01-31T19:43:02.309004Z"
    }
   },
   "outputs": [],
   "source": [
    "fr = r\n",
    "fphi = phi"
   ]
  },
  {
   "cell_type": "markdown",
   "id": "b45b5a73",
   "metadata": {},
   "source": [
    "and extract the five most prominent frequencies (in a modern laptop this takes ~ 2 min. for 100 orbits):"
   ]
  },
  {
   "cell_type": "code",
   "execution_count": null,
   "id": "cc74aaf2",
   "metadata": {
    "ExecuteTime": {
     "end_time": "2023-01-31T19:45:30.894144Z",
     "start_time": "2023-01-31T19:43:07.109598Z"
    }
   },
   "outputs": [],
   "source": [
    "n_freqs = 5\n",
    "\n",
    "# to store the frequencies:\n",
    "om_r_real = np.zeros((n_orbs, n_freqs))\n",
    "om_phi_real = np.zeros((n_orbs, n_freqs))\n",
    "# to store the amplitudes:\n",
    "a_r_real = np.zeros((n_orbs, n_freqs), dtype=np.complex128)\n",
    "a_phi_real = np.zeros((n_orbs, n_freqs), dtype=np.complex128)\n",
    "\n",
    "for i in range(n_orbs):\n",
    "    om_r_real[i], a_r_real[i] = naif.find_peak_freqs(fr[i], t[i], n_freqs=n_freqs, p=1)\n",
    "    om_phi_real[i], a_phi_real[i] = naif.find_peak_freqs(fphi[i], t[i], n_freqs=n_freqs, p=1)"
   ]
  },
  {
   "cell_type": "markdown",
   "id": "c078d4e6",
   "metadata": {},
   "source": [
    "In case you see the output \"Frequency  1  - Peak not found in first shot. Refining\" for some orbit, that means that Brent's method was not able to find the maximum around the peak, and a brute force search is done in this case (that's what the parameter `n_scan_peak` is for).\n",
    "\n",
    "Note that we explicitly set the parameter $p=1$, which is the standard value in the window function $\\chi_p(t)$, but other values might improve the estimates.\n",
    "\n",
    "Now we will take the leading frequencies to compare with the fundamental ones (remember that they are sorted in descending order of amplitude). For $\\Omega_r$, we simply take the absolute value, since a negative frequency for radial oscillations is not physically meaningful. On the other hand, for $\\Omega_\\varphi$ we want to retain the correct sign, since there might be retrograde orbits. It would be convenient to have the correct sign extracted automatically. However, this is not the case for the real time-series (you can try it), and we impose that the sign of $\\Omega_\\varphi$ is the same as the one of $L_z$. Unfortunately, this is still not enough to recover the fundamental $\\Omega_\\varphi$ for all orbits. This is because the orbits with large apotencer distances expend most of the time far from the potencial center, effectively behaving as precessing ellipses. In some cases, the precessing frequency has a larger amplitude than the azimuthal one itself, and taking the leading frequency completely misidentify the fundamental $\\Omega_\\varphi$. We solve this by requiring that $|\\Omega_\\varphi| > |\\Omega_r|/2$, which is strictly valid for the isochrone potential and generally valid for realistic galactic potentials."
   ]
  },
  {
   "cell_type": "code",
   "execution_count": null,
   "id": "404931d9",
   "metadata": {
    "ExecuteTime": {
     "end_time": "2023-01-31T19:45:30.906182Z",
     "start_time": "2023-01-31T19:45:30.897208Z"
    }
   },
   "outputs": [],
   "source": [
    "lead_om_r_real = np.zeros(n_orbs)\n",
    "lead_om_phi_real = np.zeros(n_orbs)\n",
    "fund_om_phi_real = np.zeros(n_orbs)\n",
    "\n",
    "for i in range(n_orbs):\n",
    "    lead_om_r_real[i] = np.abs(om_r_real[i,0])\n",
    "#     lead_om_phi_real[i] = om_phi_real[i,0]\n",
    "    lead_om_phi_real[i] = np.sign(Lz[i,0])*np.abs(om_phi_real[i,0])\n",
    "    \n",
    "    # select the leading frequency which is > Om_r/2:\n",
    "    idx_fund = np.where(np.abs(om_phi_real[i])>lead_om_r_real[i]/2.)[0]\n",
    "    fund_om_phi_real[i] = np.sign(Lz[i,0])*np.abs(om_phi_real[i][idx_fund][0]) "
   ]
  },
  {
   "cell_type": "markdown",
   "id": "b8c51d3c",
   "metadata": {},
   "source": [
    "Now we compare with the analytical expressions for the fundamental frequencies in the isochrone model (see Binney $\\&$ Tremaine 2008). For this, we need the magnitude of the angular momentum and energy, and we also calculate the apocenter distances to illustrate the difficulty raised above:"
   ]
  },
  {
   "cell_type": "code",
   "execution_count": null,
   "id": "162b5d18",
   "metadata": {
    "ExecuteTime": {
     "end_time": "2023-01-31T19:45:31.435807Z",
     "start_time": "2023-01-31T19:45:30.910839Z"
    }
   },
   "outputs": [],
   "source": [
    "Lx = (y*vz - z*vy)\n",
    "Ly = (z*vx - x*vz)\n",
    "L = np.sqrt(Lx**2 + Ly**2 + Lz**2)\n",
    "\n",
    "v2 = vx[:,0]**2 + vy[:,0]**2 + vz[:,0]**2\n",
    "pos = np.column_stack((x[:,0].T, y[:,0].T, z[:,0].T))\n",
    "E = isoc_pot.potential(pos) + 0.5*v2\n",
    "\n",
    "rapo = np.array([np.percentile(np.sum(orb[1][:,0:3]**2, axis=1)**0.5, 100) for orb in orbs])\n",
    "\n",
    "an_Jr = M/np.sqrt(-2*E) - 0.5*(L[:,0] + np.sqrt(L[:,0]**2 + 4*M*Rc))\n",
    "an_Jtheta = L[:,0] - np.abs(Lz[:,0])\n",
    "an_Jphi = Lz[:,0]\n",
    "\n",
    "an_Om_r = M**2/(an_Jr + 0.5*(L[:,0] + np.sqrt(L[:,0]**2 + 4*M*Rc)))**3\n",
    "an_Om_theta = 0.5*(1 + L[:,0]/np.sqrt(L[:,0]**2 + 4.*M*Rc))*an_Om_r\n",
    "an_Om_phi = np.sign(Lz[:,0])*an_Om_theta"
   ]
  },
  {
   "cell_type": "markdown",
   "id": "dca31c57",
   "metadata": {},
   "source": [
    "And let's calculate the relative erros of these estimates:"
   ]
  },
  {
   "cell_type": "code",
   "execution_count": null,
   "id": "2a18e949",
   "metadata": {
    "ExecuteTime": {
     "end_time": "2023-01-31T19:45:31.446034Z",
     "start_time": "2023-01-31T19:45:31.439361Z"
    }
   },
   "outputs": [],
   "source": [
    "delta_om_r_real = np.abs((an_Om_r - lead_om_r_real)/an_Om_r)\n",
    "\n",
    "delta_om_phi_real = np.abs((an_Om_phi - lead_om_phi_real)/an_Om_phi)\n",
    "delta_fund_om_phi_real = np.abs((an_Om_phi - fund_om_phi_real)/an_Om_phi)"
   ]
  },
  {
   "cell_type": "markdown",
   "id": "32242ff0",
   "metadata": {},
   "source": [
    "The plot below shows the results of these calculations:"
   ]
  },
  {
   "cell_type": "code",
   "execution_count": null,
   "id": "af5556a1",
   "metadata": {
    "ExecuteTime": {
     "end_time": "2023-01-31T19:45:33.284006Z",
     "start_time": "2023-01-31T19:45:31.448271Z"
    }
   },
   "outputs": [],
   "source": [
    "fig, axs = plt.subplots(3,1, figsize=(8,18))\n",
    "fig.suptitle('Isochrone potential', fontsize=36)\n",
    "fig.subplots_adjust(top=0.92, bottom=0.08, right=1.05, left=0.1, hspace=0.3, wspace=0.4)\n",
    "fig.patch.set_facecolor('white')\n",
    "\n",
    "cmap = plt.cm.turbo\n",
    "vmin = 0\n",
    "vmax = 30\n",
    "\n",
    "cNorm = mpl.colors.Normalize(vmin=vmin, vmax=vmax)\n",
    "scalarMap_rapo = mpl.cm.ScalarMappable(norm=cNorm, cmap=cmap)\n",
    "scalarMap_rapo._A = []\n",
    "\n",
    "axs[0].set_title(r'Leading $|\\Omega_r|$')\n",
    "axs[0].scatter(an_Om_r, delta_om_r_real, \n",
    "               c=rapo, s=3, vmin=vmin, vmax=vmax, cmap=cmap)\n",
    "#-------------------------\n",
    "axs[1].set_title(r'Leading $\\Omega_\\varphi$')\n",
    "axs[1].scatter(an_Om_phi, delta_om_phi_real, \n",
    "               c=rapo, s=3, vmin=vmin, vmax=vmax, cmap=cmap)\n",
    "#-------------------------\n",
    "axs[2].set_title(r'Leading $\\Omega_\\varphi$ with $|\\Omega_\\varphi| > |\\Omega_r|/2$')\n",
    "axs[2].scatter(an_Om_phi, delta_fund_om_phi_real,  \n",
    "               c=rapo, s=3, vmin=vmin, vmax=vmax, cmap=cmap)\n",
    "#-------------------------\n",
    "\n",
    "# for i in range(2):\n",
    "axs[0].set_xlabel(r'analytic $\\Omega_r$')\n",
    "axs[0].set_ylabel(r'$|\\delta \\Omega_r/\\Omega_r|$')\n",
    "axs[0].set_xticks(np.arange(0, 1.1, 0.25))\n",
    "\n",
    "axs[1].set_xlabel(r'analytic $\\Omega_\\varphi$')\n",
    "axs[1].set_ylabel(r'$|\\delta \\Omega_\\varphi/\\Omega_\\varphi|$')\n",
    "axs[1].set_xticks(np.arange(-0.5, 0.51, 0.25))\n",
    "\n",
    "axs[2].set_xlabel(r'analytic $\\Omega_\\varphi$')\n",
    "axs[2].set_ylabel(r'$|\\delta \\Omega_\\varphi/\\Omega_\\varphi|$')\n",
    "axs[2].set_xticks(np.arange(-0.5, 0.51, 0.25))\n",
    "\n",
    "for i in range(3):\n",
    "    axs[i].set_ylim(1e-9, 10)\n",
    "    axs[i].set_yscale('log')\n",
    "    axs[i].set_yticks([1e-9, 1e-7, 1e-5, 1e-3, 1e-1, 1e+1])\n",
    "    \n",
    "    cb = fig.colorbar(scalarMap_rapo, ax=axs[i], pad=0.02, aspect=20)\n",
    "    cb.set_label(r'$r_\\mathrm{apo}/a$', fontsize=28)\n",
    "    cb.ax.tick_params(labelsize=20)\n",
    "\n",
    "plt.tight_layout()"
   ]
  },
  {
   "cell_type": "markdown",
   "id": "5c3cef90",
   "metadata": {},
   "source": [
    "We see that for the radial component, we are good with the leading frequency (top row). But for $\\Omega_\\varphi$, the leading frequency is not the fundamental one for some particles with large $r_\\mathrm{apo}$ (middle row). Requiring $|\\Omega_\\varphi| > |\\Omega_r|/2$ and taking the leading frequency respecting this condition, we approximately recover the fundamental one for all orbits (bottom row)."
   ]
  },
  {
   "cell_type": "markdown",
   "id": "240169ff",
   "metadata": {},
   "source": [
    "## Complex time-series"
   ]
  },
  {
   "cell_type": "markdown",
   "id": "e61e5a2a",
   "metadata": {},
   "source": [
    "We now repeat the frequency analysis but defining complex time-series, such that (Papaphilippou $\\&$ Laskar, 1996, 1998)\n",
    "\n",
    "$f_r = r + i v_r$\n",
    "\n",
    "$f_\\varphi = \\sqrt{2|L_z|}(\\cos\\varphi + i\\sin\\varphi)$"
   ]
  },
  {
   "cell_type": "code",
   "execution_count": null,
   "id": "96d61dbd",
   "metadata": {
    "ExecuteTime": {
     "end_time": "2023-01-31T19:45:33.612891Z",
     "start_time": "2023-01-31T19:45:33.286986Z"
    }
   },
   "outputs": [],
   "source": [
    "fr = r + 1j*vr\n",
    "fphi = np.sqrt(2.*np.abs(Lz))*(np.cos(phi) + 1j*np.sin(phi))"
   ]
  },
  {
   "cell_type": "code",
   "execution_count": null,
   "id": "06b77bc1",
   "metadata": {
    "ExecuteTime": {
     "end_time": "2023-01-31T19:48:10.582770Z",
     "start_time": "2023-01-31T19:45:50.106512Z"
    }
   },
   "outputs": [],
   "source": [
    "# to store the frequencies:\n",
    "om_r_cmplx = np.zeros((n_orbs, n_freqs))\n",
    "om_phi_cmplx = np.zeros((n_orbs, n_freqs))\n",
    "# to store the amplitudes:\n",
    "a_r_cmplx = np.zeros((n_orbs, n_freqs), dtype=np.complex128)\n",
    "a_phi_cmplx = np.zeros((n_orbs, n_freqs), dtype=np.complex128)\n",
    "\n",
    "for i in range(n_orbs):\n",
    "    om_r_cmplx[i], a_r_cmplx[i] = naif.find_peak_freqs(fr[i], t[i], n_freqs=n_freqs, p=1)\n",
    "    om_phi_cmplx[i], a_phi_cmplx[i] = naif.find_peak_freqs(fphi[i], t[i], n_freqs=n_freqs, p=1)"
   ]
  },
  {
   "cell_type": "markdown",
   "id": "3a52b042",
   "metadata": {},
   "source": [
    "Now we take the leading frquencies for the complex time-series. Note that now we don't adjust the sign for $\\Omega_\\varphi$, but it is correctly extracted (as shown below):"
   ]
  },
  {
   "cell_type": "code",
   "execution_count": null,
   "id": "1cd81b4b",
   "metadata": {
    "ExecuteTime": {
     "end_time": "2023-01-31T19:48:10.591610Z",
     "start_time": "2023-01-31T19:48:10.585669Z"
    }
   },
   "outputs": [],
   "source": [
    "lead_om_r_cmplx = np.zeros(n_orbs)\n",
    "lead_om_phi_cmplx = np.zeros(n_orbs)\n",
    "fund_om_phi_cmplx = np.zeros(n_orbs)\n",
    "\n",
    "for i in range(n_orbs):\n",
    "    lead_om_r_cmplx[i] = np.abs(om_r_cmplx[i,0])\n",
    "    lead_om_phi_cmplx[i] = om_phi_cmplx[i,0]\n",
    "#     lead_om_phi_cmplx[i] = np.sign(Lz[i,0])*np.abs(om_phi_cmplx[i,0])\n",
    "    \n",
    "    # select the leading frequency which is > Om_r/2:\n",
    "    idx_fund = np.where(np.abs(om_phi_cmplx[i])>lead_om_r_cmplx[i]/2.)[0]\n",
    "    fund_om_phi_cmplx[i] = om_phi_cmplx[i][idx_fund][0]"
   ]
  },
  {
   "cell_type": "markdown",
   "id": "e4173fa4",
   "metadata": {},
   "source": [
    "Finally, the relative errors:"
   ]
  },
  {
   "cell_type": "code",
   "execution_count": null,
   "id": "e4075a4c",
   "metadata": {
    "ExecuteTime": {
     "end_time": "2023-01-31T19:48:10.617127Z",
     "start_time": "2023-01-31T19:48:10.606026Z"
    }
   },
   "outputs": [],
   "source": [
    "delta_om_r_cmplx = np.abs((an_Om_r - lead_om_r_cmplx)/an_Om_r)\n",
    "\n",
    "delta_om_phi_cmplx = np.abs((an_Om_phi - lead_om_phi_cmplx)/an_Om_phi)\n",
    "delta_fund_om_phi_cmplx = np.abs((an_Om_phi - fund_om_phi_cmplx)/an_Om_phi)"
   ]
  },
  {
   "cell_type": "markdown",
   "id": "87bd478b",
   "metadata": {},
   "source": [
    "And the plot below compares the estimates for both the real and complex time-series:"
   ]
  },
  {
   "cell_type": "code",
   "execution_count": null,
   "id": "85b12a75",
   "metadata": {
    "ExecuteTime": {
     "end_time": "2023-01-31T19:58:48.021423Z",
     "start_time": "2023-01-31T19:58:47.019578Z"
    }
   },
   "outputs": [],
   "source": [
    "# Compare analytical and naif\n",
    "fig, axs = plt.subplots(3,2, figsize=(10,12))\n",
    "fig.suptitle('Isochrone potential', fontsize=36)\n",
    "\n",
    "fig.subplots_adjust(top=0.9, bottom=0.07, right=1.05, left=0.1, hspace=0.32, wspace=0.4)\n",
    "fig.patch.set_facecolor('white')\n",
    "cmap = plt.cm.turbo\n",
    "\n",
    "vmin = 0\n",
    "vmax = 30\n",
    "\n",
    "cNorm = mpl.colors.Normalize(vmin=vmin, vmax=vmax)\n",
    "scalarMap_rapo = mpl.cm.ScalarMappable(norm=cNorm, cmap=cmap)\n",
    "scalarMap_rapo._A = []\n",
    "\n",
    "#-------------------------\n",
    "axs[0,0].set_title('Real')\n",
    "axs[0,1].set_title('Complex')\n",
    "\n",
    "axs[0,0].scatter(an_Om_r, delta_om_r_real, \n",
    "                 c=rapo, s=3, vmin=vmin, vmax=vmax, cmap=cmap)\n",
    "axs[0,1].scatter(an_Om_r, delta_om_r_cmplx,\n",
    "                 c=rapo, s=3, vmin=vmin, vmax=vmax, cmap=cmap)\n",
    "#-------------------------\n",
    "axs[1,0].scatter(an_Om_phi, delta_om_phi_real, \n",
    "                 c=rapo, s=3, vmin=vmin, vmax=vmax, cmap=cmap)\n",
    "axs[1,1].scatter(an_Om_phi, delta_om_phi_cmplx, \n",
    "                 c=rapo, s=3, vmin=vmin, vmax=vmax, cmap=cmap)\n",
    "#-------------------------\n",
    "axs[2,0].scatter(an_Om_phi, delta_fund_om_phi_real, \n",
    "                 c=rapo, s=3, vmin=vmin, vmax=vmax, cmap=cmap)\n",
    "axs[2,1].scatter(an_Om_phi, delta_fund_om_phi_cmplx, \n",
    "                 c=rapo, s=3, vmin=vmin, vmax=vmax, cmap=cmap)\n",
    "\n",
    "for i in range(3):\n",
    "    cb = fig.colorbar(scalarMap_rapo, ax=axs[i], pad=0.02, aspect=20)\n",
    "    cb.set_label(r'$r_\\mathrm{apo}/a$', fontsize=28)\n",
    "    cb.ax.tick_params(labelsize=20)\n",
    "\n",
    "for i in range(2):\n",
    "    axs[0,i].set_xlabel(r'analytic $\\Omega_r$')\n",
    "    axs[0,i].set_ylabel(r'$|\\delta \\Omega_r/\\Omega_r|$')\n",
    "    axs[1,i].set_xlabel(r'analytic $\\Omega_\\varphi$')\n",
    "    axs[1,i].set_ylabel(r'$|\\delta \\Omega_\\varphi/\\Omega_\\varphi|$')\n",
    "    axs[2,i].set_xlabel(r'analytic $\\Omega_\\varphi$')\n",
    "    axs[2,i].set_ylabel(r'$|\\delta \\Omega_\\varphi/\\Omega_\\varphi|$')\n",
    "    axs[0,i].set_xticks(np.arange(0, 1.1, 0.25))\n",
    "    axs[1,i].set_xticks(np.arange(-0.5, 0.51, 0.25))\n",
    "    axs[2,i].set_xticks(np.arange(-0.5, 0.51, 0.25))\n",
    "    for j in range(3):\n",
    "        axs[j,i].set_ylim(1e-9, 10)\n",
    "        axs[j,i].set_yscale('log')\n",
    "        axs[j,i].set_yticks([1e-9, 1e-7, 1e-5, 1e-3, 1e-1, 1e+1])"
   ]
  },
  {
   "cell_type": "markdown",
   "id": "675aaffd",
   "metadata": {},
   "source": [
    "We see that for $\\Omega_r$ the complex time-series doesn't seem to offer advantages. For $\\Omega_\\varphi$, we still need to require $|\\Omega_\\varphi| > |\\Omega_r|/2$, but the sign of $\\Omega_\\varphi$ is automatically extracted if we use the complex time-series, and the precision is a little bit better in this case."
   ]
  }
 ],
 "metadata": {
  "kernelspec": {
   "display_name": "Python 3",
   "language": "python",
   "name": "python3"
  },
  "language_info": {
   "codemirror_mode": {
    "name": "ipython",
    "version": 3
   },
   "file_extension": ".py",
   "mimetype": "text/x-python",
   "name": "python",
   "nbconvert_exporter": "python",
   "pygments_lexer": "ipython3",
   "version": "3.9.4"
  },
  "toc": {
   "base_numbering": 1,
   "nav_menu": {},
   "number_sections": true,
   "sideBar": true,
   "skip_h1_title": false,
   "title_cell": "Table of Contents",
   "title_sidebar": "Contents",
   "toc_cell": false,
   "toc_position": {},
   "toc_section_display": true,
   "toc_window_display": true
  }
 },
 "nbformat": 4,
 "nbformat_minor": 5
}
