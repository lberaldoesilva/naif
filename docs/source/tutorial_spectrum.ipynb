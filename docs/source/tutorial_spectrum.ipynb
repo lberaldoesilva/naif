{
 "cells": [
  {
   "cell_type": "markdown",
   "id": "bf6901ae",
   "metadata": {},
   "source": [
    "# Plotting spectra\n",
    "\n",
    "Here we show how to plot the Fourier spectra for specific orbits. We integrate several orbits in the isochrone potential, get the frequencies and spectra and plot a few. The orbit integration uses the [agama](https://github.com/GalacticDynamics-Oxford/Agama) package, but you may prefer other packages, such as [gala](http://gala.adrian.pw/en/latest/) or [galpy](https://www.galpy.org/)."
   ]
  },
  {
   "cell_type": "markdown",
   "id": "67cd49df",
   "metadata": {},
   "source": [
    "We start importing the relevant modules and setting some parameters for prettier plots:"
   ]
  },
  {
   "cell_type": "code",
   "execution_count": null,
   "id": "bc8b6c19",
   "metadata": {
    "ExecuteTime": {
     "end_time": "2023-01-31T20:09:02.739612Z",
     "start_time": "2023-01-31T20:09:02.316122Z"
    }
   },
   "outputs": [],
   "source": [
    "import numpy as np\n",
    "import matplotlib as mpl\n",
    "import matplotlib.pyplot as plt\n",
    "\n",
    "import agama\n",
    "import naif\n",
    "\n",
    "from matplotlib.ticker import ScalarFormatter, NullFormatter\n",
    "\n",
    "params = {'axes.labelsize': 24, \n",
    "          'xtick.labelsize': 20, 'xtick.direction': 'in', 'xtick.major.size': 8.0,\n",
    "          'xtick.bottom': 1, 'xtick.top': 1, 'ytick.labelsize': 20,\n",
    "          'ytick.direction': 'in','ytick.major.size': 8.0,'ytick.left': 1,\n",
    "          'ytick.right': 1,'text.usetex': True, 'lines.linewidth': 1,\n",
    "          'axes.titlesize': 32, 'font.family': 'serif'}\n",
    "plt.rcParams.update(params)\n",
    "columnwidth = 240./72.27\n",
    "textwidth = 504.0/72.27\n",
    "\n",
    "%matplotlib inline\n",
    "%config InlineBackend.figure_format ='retina'"
   ]
  },
  {
   "cell_type": "markdown",
   "id": "2be4892f",
   "metadata": {
    "ExecuteTime": {
     "end_time": "2023-01-30T02:53:45.703365Z",
     "start_time": "2023-01-30T02:53:45.697925Z"
    }
   },
   "source": [
    "## Integrate orbits"
   ]
  },
  {
   "cell_type": "markdown",
   "id": "2c4c2d82",
   "metadata": {},
   "source": [
    "For the initial conditions (ICs), we generate a self-consistent sample of orbits in the isochrone model (the original units in agama are such that the gravitational constant $G=1$):"
   ]
  },
  {
   "cell_type": "code",
   "execution_count": null,
   "id": "930b3e15",
   "metadata": {
    "ExecuteTime": {
     "end_time": "2023-01-31T20:09:03.278281Z",
     "start_time": "2023-01-31T20:09:03.234208Z"
    }
   },
   "outputs": [],
   "source": [
    "M = 1.\n",
    "Rc = 1.\n",
    "n_orbs = 20\n",
    "\n",
    "isoc_pot = agama.Potential(type='Isochrone', mass=M, scaleRadius=Rc)\n",
    "isoc_df = agama.DistributionFunction(type='QuasiSpherical', potential=isoc_pot, density=isoc_pot)\n",
    "isoc_data,_ = agama.GalaxyModel(isoc_pot, isoc_df).sample(n_orbs)"
   ]
  },
  {
   "cell_type": "markdown",
   "id": "e3b28129",
   "metadata": {},
   "source": [
    "Note that self-consistency is not important here, but it conveniently generates a broad range of ICs. Now we integrate the orbits and calculate the appropriate coordinates:"
   ]
  },
  {
   "cell_type": "code",
   "execution_count": null,
   "id": "f504bef9",
   "metadata": {
    "ExecuteTime": {
     "end_time": "2023-01-31T20:09:04.026940Z",
     "start_time": "2023-01-31T20:09:03.702823Z"
    }
   },
   "outputs": [],
   "source": [
    "n_steps = 100_000 # points per orbit\n",
    "int_time = 100*isoc_pot.Tcirc(isoc_data) # integration time\n",
    "orbs = agama.orbit(potential=isoc_pot, ic = isoc_data,\n",
    "                   time = int_time, trajsize = n_steps+1)\n",
    "t = np.vstack(orbs[:,0])[:,:-1] # time\n",
    "all_coords = np.vstack(orbs[:,1]).reshape(n_orbs, n_steps+1, 6)\n",
    "x = all_coords[:,:-1,0]\n",
    "y = all_coords[:,:-1,1]\n",
    "z = all_coords[:,:-1,2]\n",
    "vx = all_coords[:,:-1,3]\n",
    "vy = all_coords[:,:-1,4]\n",
    "vz = all_coords[:,:-1,5]\n",
    "r = np.sqrt(x**2 + y**2 + z**2)\n",
    "vr = (x*vx + y*vy + z*vz)/r\n",
    "phi = np.arctan2(y, x)\n",
    "Lz = (x*vy - y*vx)"
   ]
  },
  {
   "cell_type": "markdown",
   "id": "1530307b",
   "metadata": {},
   "source": [
    "We define the complex time-series\n",
    "\n",
    "$f_r = r + i v_r$\n",
    "\n",
    "$f_\\varphi = \\sqrt{2|L_z|}(\\cos\\varphi + i\\sin\\varphi)$"
   ]
  },
  {
   "cell_type": "code",
   "execution_count": null,
   "id": "23e51915",
   "metadata": {
    "ExecuteTime": {
     "end_time": "2023-01-31T20:09:04.866599Z",
     "start_time": "2023-01-31T20:09:04.806324Z"
    }
   },
   "outputs": [],
   "source": [
    "fr = r + 1j*vr\n",
    "fphi = np.sqrt(2.*np.abs(Lz))*(np.cos(phi) + 1j*np.sin(phi))"
   ]
  },
  {
   "cell_type": "code",
   "execution_count": null,
   "id": "e51e6043",
   "metadata": {
    "ExecuteTime": {
     "end_time": "2023-01-31T20:09:32.039483Z",
     "start_time": "2023-01-31T20:09:05.265515Z"
    }
   },
   "outputs": [],
   "source": [
    "n_freqs = 5\n",
    "# to store the frequencies:\n",
    "om_r = np.zeros((n_orbs, n_freqs))\n",
    "om_phi = np.zeros((n_orbs, n_freqs))\n",
    "# to store the amplitudes:\n",
    "a_r = np.zeros((n_orbs, n_freqs), dtype=np.complex128)\n",
    "a_phi = np.zeros((n_orbs, n_freqs), dtype=np.complex128)\n",
    "# to store the spectra:\n",
    "spec_r = np.zeros((n_orbs, n_freqs, n_steps))\n",
    "spec_phi = np.zeros((n_orbs, n_freqs, n_steps))\n",
    "for i in range(n_orbs):\n",
    "    om_r[i], a_r[i], spec_r[i] = naif.find_peak_freqs(fr[i], t[i], n_freqs=n_freqs, p=1, spec=True)\n",
    "    om_phi[i], a_phi[i], spec_phi[i] = naif.find_peak_freqs(fphi[i], t[i], n_freqs=n_freqs, p=1, spec=True)"
   ]
  },
  {
   "cell_type": "markdown",
   "id": "556aacb9",
   "metadata": {},
   "source": [
    "## Plot orbit"
   ]
  },
  {
   "cell_type": "code",
   "execution_count": null,
   "id": "c368f7a6",
   "metadata": {
    "ExecuteTime": {
     "end_time": "2023-01-31T20:09:32.046952Z",
     "start_time": "2023-01-31T20:09:32.043046Z"
    }
   },
   "outputs": [],
   "source": [
    "orb = 1"
   ]
  },
  {
   "cell_type": "code",
   "execution_count": null,
   "id": "6bf9066c",
   "metadata": {
    "ExecuteTime": {
     "end_time": "2023-01-31T20:09:33.244076Z",
     "start_time": "2023-01-31T20:09:32.055790Z"
    },
    "code_folding": [
     0
    ]
   },
   "outputs": [],
   "source": [
    "# plot first 5_000 tsteps of the orbit\n",
    "fig, axs = plt.subplots(1, 2, figsize=(14,6))\n",
    "\n",
    "axs[0].plot(x[orb][:5_000], y[orb][:5_000], 'k-')\n",
    "axs[0].set_xlabel(r'$x$')\n",
    "axs[0].set_ylabel(r'$y$')\n",
    "# axs[0].axis([-15, 15, -15, 15])\n",
    "\n",
    "axs[1].plot(x[orb][:5_000], z[orb][:5_000], 'k-')\n",
    "axs[1].set_xlabel(r'$x$')\n",
    "axs[1].set_ylabel(r'$z$')\n",
    "# axs[1].axis([-15, 15, -15, 15])\n",
    "\n",
    "plt.tight_layout()"
   ]
  },
  {
   "cell_type": "markdown",
   "id": "9bfd6a5c",
   "metadata": {},
   "source": [
    "## Spectrum"
   ]
  },
  {
   "cell_type": "markdown",
   "id": "6c9c524c",
   "metadata": {},
   "source": [
    "Total time and frequencies where spectrum is evaluated:"
   ]
  },
  {
   "cell_type": "code",
   "execution_count": null,
   "id": "0938e7b3",
   "metadata": {
    "ExecuteTime": {
     "end_time": "2023-01-31T20:09:33.254290Z",
     "start_time": "2023-01-31T20:09:33.247012Z"
    }
   },
   "outputs": [],
   "source": [
    "T = t[orb,-1] - t[orb,0]\n",
    "omega = 2.*np.pi*np.fft.fftfreq(n_steps, T/n_steps)"
   ]
  },
  {
   "cell_type": "code",
   "execution_count": null,
   "id": "803ba4c1",
   "metadata": {
    "ExecuteTime": {
     "end_time": "2023-01-31T20:09:35.037566Z",
     "start_time": "2023-01-31T20:09:33.257921Z"
    },
    "code_folding": [
     0
    ]
   },
   "outputs": [],
   "source": [
    "# plot powew spectrum\n",
    "# The limits can change for different orbits\n",
    "\n",
    "fig, axs = plt.subplots(n_freqs, 2, figsize=(16,20))\n",
    "fig.suptitle('Spectra before removal of kth freq.', fontsize=30)\n",
    "\n",
    "axs[0,0].set_title(r'$r$', fontsize=36)\n",
    "axs[0,1].set_title(r'$\\varphi$', fontsize=36)\n",
    "for i in range(n_freqs):\n",
    "    axs[i,0].plot(np.fft.fftshift(omega), np.fft.fftshift(spec_r[orb,i]), '-', label=r'$k=%d$'%(i+1))\n",
    "    axs[i,0].set_ylabel(r'$|a_r|$')\n",
    "    axs[i,0].axis([-1, 1, -0.05, 1.])\n",
    "    \n",
    "    axs[i,1].plot(np.fft.fftshift(omega), np.fft.fftshift(spec_phi[orb,i]), '-', label=r'$k=%d$'%(i+1))\n",
    "    axs[i,1].set_ylabel(r'$|a_\\varphi|$')\n",
    "    axs[i,1].axis([-1, 1, -0.05, 1.])\n",
    "    \n",
    "    for j in range(2):\n",
    "        axs[i,j].set_xlabel(r'$\\omega$')\n",
    "        axs[i,j].legend(fontsize=24, loc=1)\n",
    "        \n",
    "plt.tight_layout()\n",
    "fig.subplots_adjust(top=0.94, bottom=0.08, right=0.95, left=0.05, hspace=0.25, wspace=0.25)"
   ]
  },
  {
   "cell_type": "markdown",
   "id": "aa9eaf5d",
   "metadata": {},
   "source": [
    "## Checking a specific peak"
   ]
  },
  {
   "cell_type": "markdown",
   "id": "c1b025bd",
   "metadata": {},
   "source": [
    "We now compare the first (raw) estimate of the peak frequency with the refined estimate obtained when we go to the continuum, i.e. by maximizing the function $|\\phi(\\omega)| = \\int_{-T/2}^{T/2} f(t)e^{-i\\omega t}\\chi_p(t)\\, dt$, where $f(t)$ is the time-series and $\\chi_p(t)$ is the window function:"
   ]
  },
  {
   "cell_type": "code",
   "execution_count": null,
   "id": "4afe0e1d",
   "metadata": {
    "ExecuteTime": {
     "end_time": "2023-01-31T20:09:35.043761Z",
     "start_time": "2023-01-31T20:09:35.040021Z"
    }
   },
   "outputs": [],
   "source": [
    "k = 0 #kth frequency"
   ]
  },
  {
   "cell_type": "code",
   "execution_count": null,
   "id": "56faee54",
   "metadata": {
    "ExecuteTime": {
     "end_time": "2023-01-31T20:09:36.065445Z",
     "start_time": "2023-01-31T20:09:35.049482Z"
    },
    "code_folding": [
     0
    ]
   },
   "outputs": [],
   "source": [
    "# Calculate |phi(om)| at 1st raw maximum estimate om_max, \n",
    "# at the edges of the interval om_inf, om_sup, \n",
    "# and in intermediate points\n",
    "tc = 0.5*(t[orb,0] + t[orb,-1])\n",
    "# time symmetric around tc:\n",
    "t_sym = t[orb] - tc\n",
    "# window function:\n",
    "chi = naif.chi_p(t_sym, p=1)\n",
    "f_chi = fr[orb]*chi\n",
    "\n",
    "# identify position of desired peak:\n",
    "idx_max = np.argmax(spec_r[orb, k])\n",
    "om_max = omega[idx_max]\n",
    "# Define range around it, where to evaluate phi(omega):\n",
    "om_inf = om_max - 4*np.pi/T\n",
    "om_sup = om_max + 4*np.pi/T\n",
    "# phi(om_max):\n",
    "phi_om_max = -naif.mn_phi_om(om_max, f_chi, t_sym)\n",
    "\n",
    "n_fine_om = 200\n",
    "fine_om = np.linspace(om_inf, om_sup, n_fine_om)\n",
    "# phi(omega):\n",
    "fine_phi_om = np.zeros(n_fine_om)\n",
    "for i in range(n_fine_om):\n",
    "    fine_phi_om[i] = -naif.mn_phi_om(fine_om[i], f_chi, t_sym)"
   ]
  },
  {
   "cell_type": "markdown",
   "id": "575ae13a",
   "metadata": {},
   "source": [
    "We now plot the function $|\\phi(\\omega)|$ which is maximized to find the best estimate of the frequency at the peak. Vertical lines show the grid where the power spectrum is evaluated, used for the fist raw estimate. The peak of the black curve shows the improved estimate. We do it for the radial component, for a certain orbit $orb$ and around a certain peak $k$:"
   ]
  },
  {
   "cell_type": "code",
   "execution_count": null,
   "id": "c72f2a22",
   "metadata": {
    "ExecuteTime": {
     "end_time": "2023-01-31T20:09:36.483648Z",
     "start_time": "2023-01-31T20:09:36.069909Z"
    },
    "code_folding": [
     0
    ]
   },
   "outputs": [],
   "source": [
    "# Plot\n",
    "fig, axs = plt.subplots(1, figsize=(8,6))\n",
    "\n",
    "axs.plot(fine_om, fine_phi_om, 'k-')\n",
    "axs.plot(om_max, phi_om_max, 'r*', label='1st (raw) estimate')\n",
    "\n",
    "axs.set_xlabel(r'$\\omega$')\n",
    "axs.set_ylabel(r'$|\\phi(\\omega)|$')\n",
    "axs.legend(fontsize=20)\n",
    "\n",
    "idx_max = np.argmax(np.fft.fftshift(spec_r[orb,k]))\n",
    "omega_shift = np.fft.fftshift(omega)\n",
    "for i in range(idx_max-2, idx_max+3):\n",
    "    axs.axvline(x=omega_shift[i], c='r')\n",
    "\n",
    "plt.tight_layout()"
   ]
  },
  {
   "cell_type": "code",
   "execution_count": null,
   "id": "787974ac",
   "metadata": {},
   "outputs": [],
   "source": []
  }
 ],
 "metadata": {
  "kernelspec": {
   "display_name": "Python 3",
   "language": "python",
   "name": "python3"
  },
  "language_info": {
   "codemirror_mode": {
    "name": "ipython",
    "version": 3
   },
   "file_extension": ".py",
   "mimetype": "text/x-python",
   "name": "python",
   "nbconvert_exporter": "python",
   "pygments_lexer": "ipython3",
   "version": "3.9.4"
  },
  "toc": {
   "base_numbering": 1,
   "nav_menu": {},
   "number_sections": true,
   "sideBar": true,
   "skip_h1_title": false,
   "title_cell": "Table of Contents",
   "title_sidebar": "Contents",
   "toc_cell": false,
   "toc_position": {},
   "toc_section_display": true,
   "toc_window_display": true
  }
 },
 "nbformat": 4,
 "nbformat_minor": 5
}
